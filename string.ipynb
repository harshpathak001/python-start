{
 "cells": [
  {
   "cell_type": "code",
   "execution_count": 1,
   "id": "d6e7187d-b966-4966-950f-33f3ca2579d4",
   "metadata": {},
   "outputs": [
    {
     "data": {
      "text/plain": [
       "1"
      ]
     },
     "execution_count": 1,
     "metadata": {},
     "output_type": "execute_result"
    }
   ],
   "source": [
    "x= \"data science\"\n",
    "x.count(\" \")"
   ]
  },
  {
   "cell_type": "code",
   "execution_count": 2,
   "id": "26462cf9-d631-4503-b227-828f546fdb17",
   "metadata": {},
   "outputs": [
    {
     "data": {
      "text/plain": [
       "'machine science'"
      ]
     },
     "execution_count": 2,
     "metadata": {},
     "output_type": "execute_result"
    }
   ],
   "source": [
    "x= \"data science\"\n",
    "x.replace(\"data\", \"machine\")"
   ]
  },
  {
   "cell_type": "code",
   "execution_count": 3,
   "id": "b7dec779-364a-46f7-ae50-5e69f4908fb8",
   "metadata": {},
   "outputs": [
    {
     "data": {
      "text/plain": [
       "'dmachinetmachine science'"
      ]
     },
     "execution_count": 3,
     "metadata": {},
     "output_type": "execute_result"
    }
   ],
   "source": [
    "x= \"data science\"\n",
    "x.replace(\"a\", \"machine\")"
   ]
  },
  {
   "cell_type": "code",
   "execution_count": 6,
   "id": "47450433-3c8c-4795-8c1c-b81a4529566e",
   "metadata": {},
   "outputs": [
    {
     "data": {
      "text/plain": [
       "8"
      ]
     },
     "execution_count": 6,
     "metadata": {},
     "output_type": "execute_result"
    }
   ],
   "source": [
    "x= \"data science\"\n",
    "x.index(\"e\")"
   ]
  },
  {
   "cell_type": "code",
   "execution_count": 8,
   "id": "f48fd7fe-ef06-4ad4-9a4d-f6971036a1b2",
   "metadata": {},
   "outputs": [
    {
     "data": {
      "text/plain": [
       "'data s'"
      ]
     },
     "execution_count": 8,
     "metadata": {},
     "output_type": "execute_result"
    }
   ],
   "source": [
    "x= \"data science\"\n",
    "x[0:6]"
   ]
  },
  {
   "cell_type": "code",
   "execution_count": 9,
   "id": "2fa43235-aa83-4ae6-9083-4ab8d7b0cfbd",
   "metadata": {},
   "outputs": [
    {
     "data": {
      "text/plain": [
       "'data sc'"
      ]
     },
     "execution_count": 9,
     "metadata": {},
     "output_type": "execute_result"
    }
   ],
   "source": [
    "x= \"data science\"\n",
    "x[:7]"
   ]
  },
  {
   "cell_type": "code",
   "execution_count": 11,
   "id": "0fbcc6d4-f374-4fa1-acd4-f86be0b2fc3b",
   "metadata": {},
   "outputs": [
    {
     "data": {
      "text/plain": [
       "'data science'"
      ]
     },
     "execution_count": 11,
     "metadata": {},
     "output_type": "execute_result"
    }
   ],
   "source": [
    "x= \"data science\"\n",
    "x[0:]"
   ]
  },
  {
   "cell_type": "code",
   "execution_count": 12,
   "id": "40ec6a76-71cd-446a-a22b-26ed88725675",
   "metadata": {},
   "outputs": [
    {
     "data": {
      "text/plain": [
       "'nc'"
      ]
     },
     "execution_count": 12,
     "metadata": {},
     "output_type": "execute_result"
    }
   ],
   "source": [
    "x= \"data science\"\n",
    "x[-3:-1]"
   ]
  },
  {
   "cell_type": "code",
   "execution_count": 16,
   "id": "d530ddbc-34d3-40d2-b728-f536ef31fd6b",
   "metadata": {},
   "outputs": [
    {
     "data": {
      "text/plain": [
       "'data science'"
      ]
     },
     "execution_count": 16,
     "metadata": {},
     "output_type": "execute_result"
    }
   ],
   "source": [
    "x= \"data science\"\n",
    "x[-12:]"
   ]
  },
  {
   "cell_type": "code",
   "execution_count": 14,
   "id": "91f6be5c-6537-4719-9206-3200a6c86d07",
   "metadata": {},
   "outputs": [
    {
     "data": {
      "text/plain": [
       "'data scienc'"
      ]
     },
     "execution_count": 14,
     "metadata": {},
     "output_type": "execute_result"
    }
   ],
   "source": [
    "x= \"data science\"\n",
    "x[:-1]"
   ]
  },
  {
   "cell_type": "code",
   "execution_count": 17,
   "id": "2fe84de6-d5d7-4b4b-b853-ba2b2480a60b",
   "metadata": {},
   "outputs": [
    {
     "data": {
      "text/plain": [
       "'DA'"
      ]
     },
     "execution_count": 17,
     "metadata": {},
     "output_type": "execute_result"
    }
   ],
   "source": [
    "x=\"data sxience\"\n",
    "x.upper()[0:2]"
   ]
  },
  {
   "cell_type": "code",
   "execution_count": 20,
   "id": "68e24682-9481-4302-aeb5-89287e0d35db",
   "metadata": {},
   "outputs": [
    {
     "data": {
      "text/plain": [
       "'DATA scienCE'"
      ]
     },
     "execution_count": 20,
     "metadata": {},
     "output_type": "execute_result"
    }
   ],
   "source": [
    "x= \"data SCIENce\"\n",
    "x.swapcase()"
   ]
  },
  {
   "cell_type": "code",
   "execution_count": 25,
   "id": "2450bd21-6ea3-4c42-b706-df4c3e9030d2",
   "metadata": {},
   "outputs": [
    {
     "data": {
      "text/plain": [
       "'scienCE'"
      ]
     },
     "execution_count": 25,
     "metadata": {},
     "output_type": "execute_result"
    }
   ],
   "source": [
    "x= \"data SCIENce\"\n",
    "x[5:].swapcase()"
   ]
  },
  {
   "cell_type": "code",
   "execution_count": 33,
   "id": "c6aa13e7-a707-4172-89b3-9ec3beb51e60",
   "metadata": {},
   "outputs": [
    {
     "data": {
      "text/plain": [
       "'scienCE'"
      ]
     },
     "execution_count": 33,
     "metadata": {},
     "output_type": "execute_result"
    }
   ],
   "source": [
    "x= \"data SCIENce\"\n",
    "x.split()[1].swapcase()"
   ]
  },
  {
   "cell_type": "code",
   "execution_count": 34,
   "id": "65363654-4d3d-4695-b756-a36586b9bc59",
   "metadata": {},
   "outputs": [
    {
     "data": {
      "text/plain": [
       "'scienCE'"
      ]
     },
     "execution_count": 34,
     "metadata": {},
     "output_type": "execute_result"
    }
   ],
   "source": [
    "x= \"data SCIENce\"\n",
    "x[-7:].swapcase()"
   ]
  },
  {
   "cell_type": "code",
   "execution_count": 37,
   "id": "6cdd02f9-24ee-4e7c-8b25-65e646d7c109",
   "metadata": {},
   "outputs": [
    {
     "data": {
      "text/plain": [
       "'data                                              science'"
      ]
     },
     "execution_count": 37,
     "metadata": {},
     "output_type": "execute_result"
    }
   ],
   "source": [
    "x= \"data \\tscience\"\n",
    "x.expandtabs()\n"
   ]
  },
  {
   "cell_type": "code",
   "execution_count": 38,
   "id": "b3c3ab2a-98f0-4aff-b786-989a49888029",
   "metadata": {},
   "outputs": [
    {
     "data": {
      "text/plain": [
       "True"
      ]
     },
     "execution_count": 38,
     "metadata": {},
     "output_type": "execute_result"
    }
   ],
   "source": [
    "x=\" \"\n",
    "x.isspace()"
   ]
  },
  {
   "cell_type": "code",
   "execution_count": 41,
   "id": "4b1207bd-6096-43dd-9efe-40ff0b96945f",
   "metadata": {},
   "outputs": [
    {
     "data": {
      "text/plain": [
       "6"
      ]
     },
     "execution_count": 41,
     "metadata": {},
     "output_type": "execute_result"
    }
   ],
   "source": [
    "x= \"machine learning\"\n",
    "x.find(\"e\")"
   ]
  },
  {
   "cell_type": "code",
   "execution_count": 42,
   "id": "e554a750-2006-4139-8aa7-280c4993700d",
   "metadata": {},
   "outputs": [
    {
     "data": {
      "text/plain": [
       "6"
      ]
     },
     "execution_count": 42,
     "metadata": {},
     "output_type": "execute_result"
    }
   ],
   "source": [
    "x= \"machine learning\"\n",
    "x.find(\"e\",2)"
   ]
  },
  {
   "cell_type": "code",
   "execution_count": 44,
   "id": "8e97b862-6c10-46aa-b115-bb9e1cd9ea49",
   "metadata": {},
   "outputs": [
    {
     "data": {
      "text/plain": [
       "9"
      ]
     },
     "execution_count": 44,
     "metadata": {},
     "output_type": "execute_result"
    }
   ],
   "source": [
    "x= \"machine learning\"\n",
    "x.find(\"e\",7)"
   ]
  },
  {
   "cell_type": "code",
   "execution_count": 45,
   "id": "2acb50a6-bfb4-4cc3-a1cd-73e61091c79b",
   "metadata": {},
   "outputs": [
    {
     "data": {
      "text/plain": [
       "-1"
      ]
     },
     "execution_count": 45,
     "metadata": {},
     "output_type": "execute_result"
    }
   ],
   "source": [
    "x= \"machine learning\"\n",
    "x.find(\"e\",7,9)"
   ]
  },
  {
   "cell_type": "code",
   "execution_count": 46,
   "id": "65ec231b-abad-403f-a450-1f69057eccdb",
   "metadata": {},
   "outputs": [
    {
     "data": {
      "text/plain": [
       "-1"
      ]
     },
     "execution_count": 46,
     "metadata": {},
     "output_type": "execute_result"
    }
   ],
   "source": [
    "x= \"machine learning\"\n",
    "x.find(\"x\",7,9)"
   ]
  },
  {
   "cell_type": "code",
   "execution_count": 48,
   "id": "66216a1a-7a50-4be9-9833-7f0b23bf92b6",
   "metadata": {},
   "outputs": [
    {
     "data": {
      "text/plain": [
       "'***data**'"
      ]
     },
     "execution_count": 48,
     "metadata": {},
     "output_type": "execute_result"
    }
   ],
   "source": [
    "x= \"data\"\n",
    "x.center(9,\"*\")\n"
   ]
  },
  {
   "cell_type": "code",
   "execution_count": 50,
   "id": "4860d9a5-6438-4dbf-a81d-d79f67040938",
   "metadata": {},
   "outputs": [
    {
     "data": {
      "text/plain": [
       "'000000data'"
      ]
     },
     "execution_count": 50,
     "metadata": {},
     "output_type": "execute_result"
    }
   ],
   "source": [
    "x=\"data\"\n",
    "x.zfill(10)"
   ]
  },
  {
   "cell_type": "code",
   "execution_count": 51,
   "id": "11dd212e-9b5c-4789-8047-7ca35fe31efb",
   "metadata": {},
   "outputs": [
    {
     "data": {
      "text/plain": [
       "'data '"
      ]
     },
     "execution_count": 51,
     "metadata": {},
     "output_type": "execute_result"
    }
   ],
   "source": [
    "x=\" data \"\n",
    "x.lstrip()"
   ]
  },
  {
   "cell_type": "code",
   "execution_count": 52,
   "id": "4a5d65fc-7455-41f7-b93c-a23f672a2534",
   "metadata": {},
   "outputs": [
    {
     "data": {
      "text/plain": [
       "' data'"
      ]
     },
     "execution_count": 52,
     "metadata": {},
     "output_type": "execute_result"
    }
   ],
   "source": [
    "x=\" data \"\n",
    "x.rstrip()\n"
   ]
  },
  {
   "cell_type": "code",
   "execution_count": 53,
   "id": "be07a533-60f0-4714-b79f-239ac1da3ab4",
   "metadata": {},
   "outputs": [
    {
     "data": {
      "text/plain": [
       "'data'"
      ]
     },
     "execution_count": 53,
     "metadata": {},
     "output_type": "execute_result"
    }
   ],
   "source": [
    "x=\" data \"\n",
    "x.strip()"
   ]
  },
  {
   "cell_type": "code",
   "execution_count": 55,
   "id": "138d165c-6844-4d14-8b39-be79d625ad30",
   "metadata": {},
   "outputs": [
    {
     "data": {
      "text/plain": [
       "'data      '"
      ]
     },
     "execution_count": 55,
     "metadata": {},
     "output_type": "execute_result"
    }
   ],
   "source": [
    "x= \"data\"\n",
    "x.ljust(10)"
   ]
  },
  {
   "cell_type": "code",
   "execution_count": 56,
   "id": "1396dff6-0261-4eb7-9dbf-8210fe1feac1",
   "metadata": {},
   "outputs": [
    {
     "data": {
      "text/plain": [
       "'data******'"
      ]
     },
     "execution_count": 56,
     "metadata": {},
     "output_type": "execute_result"
    }
   ],
   "source": [
    "x.ljust(10,\"*\")\n"
   ]
  },
  {
   "cell_type": "code",
   "execution_count": 57,
   "id": "5d7c9cde-3973-49a2-8ca3-e7fc1c667035",
   "metadata": {},
   "outputs": [
    {
     "data": {
      "text/plain": [
       "'******data'"
      ]
     },
     "execution_count": 57,
     "metadata": {},
     "output_type": "execute_result"
    }
   ],
   "source": [
    "x.rjust(10,\"*\")"
   ]
  },
  {
   "cell_type": "code",
   "execution_count": null,
   "id": "2e9df776-9ad6-48c2-a401-3b6abd47c214",
   "metadata": {},
   "outputs": [],
   "source": []
  },
  {
   "cell_type": "code",
   "execution_count": null,
   "id": "0b7f8247-c950-4706-9a77-e01031809666",
   "metadata": {},
   "outputs": [],
   "source": []
  },
  {
   "cell_type": "code",
   "execution_count": null,
   "id": "fd7983a9-1e22-4798-ad59-3920042c3077",
   "metadata": {},
   "outputs": [],
   "source": []
  },
  {
   "cell_type": "code",
   "execution_count": null,
   "id": "6b1ef96a-cbeb-45c2-90a5-689046aaad4e",
   "metadata": {},
   "outputs": [],
   "source": []
  },
  {
   "cell_type": "code",
   "execution_count": null,
   "id": "4720635a-8ff5-4754-a80c-5b54bb3d5b84",
   "metadata": {},
   "outputs": [],
   "source": []
  },
  {
   "cell_type": "code",
   "execution_count": null,
   "id": "0ba22ea8-ed8f-4939-be86-9599218c8731",
   "metadata": {},
   "outputs": [],
   "source": []
  }
 ],
 "metadata": {
  "kernelspec": {
   "display_name": "Python 3 (ipykernel)",
   "language": "python",
   "name": "python3"
  },
  "language_info": {
   "codemirror_mode": {
    "name": "ipython",
    "version": 3
   },
   "file_extension": ".py",
   "mimetype": "text/x-python",
   "name": "python",
   "nbconvert_exporter": "python",
   "pygments_lexer": "ipython3",
   "version": "3.13.6"
  }
 },
 "nbformat": 4,
 "nbformat_minor": 5
}
