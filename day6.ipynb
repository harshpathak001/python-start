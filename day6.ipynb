{
  "nbformat": 4,
  "nbformat_minor": 0,
  "metadata": {
    "colab": {
      "provenance": []
    },
    "kernelspec": {
      "name": "python3",
      "display_name": "Python 3"
    },
    "language_info": {
      "name": "python"
    }
  },
  "cells": [
    {
      "cell_type": "code",
      "execution_count": null,
      "metadata": {
        "id": "wsd3lkb-e70m"
      },
      "outputs": [],
      "source": [
        "#if\n",
        "#if else\n",
        "#if elif else\n",
        "#for\n",
        "#while\n",
        "#continue\n",
        "#break"
      ]
    },
    {
      "cell_type": "code",
      "source": [
        "x=10\n",
        "if (x>5):\n",
        "  print(\"test\")\n",
        "  print(\"test2\")\n",
        "  x=2+3\n",
        "  y=10\n",
        "  print(x+y)"
      ],
      "metadata": {
        "colab": {
          "base_uri": "https://localhost:8080/"
        },
        "id": "75GFPc5Bhf8b",
        "outputId": "534011fb-f9ac-4392-9b19-ca8ffd9a378b"
      },
      "execution_count": null,
      "outputs": [
        {
          "output_type": "stream",
          "name": "stdout",
          "text": [
            "test\n",
            "test2\n",
            "15\n"
          ]
        }
      ]
    },
    {
      "cell_type": "code",
      "source": [
        "x=\"Data\"\n",
        "if x.endswith(\"A\"):\n",
        "  print(\"data\")"
      ],
      "metadata": {
        "id": "NceNI3DTiFrJ"
      },
      "execution_count": null,
      "outputs": []
    },
    {
      "cell_type": "code",
      "source": [
        "x=\"Data\"\n",
        "if x.endswith(\"d\") or x.startswith(\"D\"):\n",
        "  print(\"data\")"
      ],
      "metadata": {
        "colab": {
          "base_uri": "https://localhost:8080/"
        },
        "id": "cv4g5fHBiFny",
        "outputId": "725bc764-bd49-46ee-9542-454650507dfb"
      },
      "execution_count": null,
      "outputs": [
        {
          "output_type": "stream",
          "name": "stdout",
          "text": [
            "data\n"
          ]
        }
      ]
    },
    {
      "cell_type": "code",
      "source": [
        "x=\"Data\"\n",
        "if not(len(x)%2==0 and x.startswith(\"D\")):\n",
        "  print(\"data\")"
      ],
      "metadata": {
        "id": "mzpbEAw7iFhB"
      },
      "execution_count": null,
      "outputs": []
    },
    {
      "cell_type": "code",
      "source": [
        "if 1:\n",
        "  print(\"Data\")"
      ],
      "metadata": {
        "colab": {
          "base_uri": "https://localhost:8080/"
        },
        "id": "cOzIE0U0iFX4",
        "outputId": "53bb2685-1eab-4baa-8264-4a9dca838f76"
      },
      "execution_count": null,
      "outputs": [
        {
          "output_type": "stream",
          "name": "stdout",
          "text": [
            "Data\n"
          ]
        }
      ]
    },
    {
      "cell_type": "code",
      "source": [
        "if True:\n",
        "  print(\"data\")"
      ],
      "metadata": {
        "colab": {
          "base_uri": "https://localhost:8080/"
        },
        "id": "rhXekazGiFR9",
        "outputId": "d03a7cdb-eccb-43a6-c127-6f01959394a7"
      },
      "execution_count": null,
      "outputs": [
        {
          "output_type": "stream",
          "name": "stdout",
          "text": [
            "data\n"
          ]
        }
      ]
    },
    {
      "cell_type": "code",
      "source": [
        "x=20\n",
        "if x>10:\n",
        "  print(\"data\")\n",
        "else:\n",
        "  print(\"data science\")"
      ],
      "metadata": {
        "colab": {
          "base_uri": "https://localhost:8080/"
        },
        "id": "pWVLvQRWiFOx",
        "outputId": "3dc91dc4-06a8-4df4-901f-5be5504fa93a"
      },
      "execution_count": null,
      "outputs": [
        {
          "output_type": "stream",
          "name": "stdout",
          "text": [
            "data\n"
          ]
        }
      ]
    },
    {
      "cell_type": "code",
      "source": [
        "x= 89\n",
        "if x>80:\n",
        "  print(\"grade 1\")\n",
        "elif x>60 and x<80:\n",
        "  print(\"grade 2\")\n",
        "else:\n",
        "  print(\"fail\")"
      ],
      "metadata": {
        "colab": {
          "base_uri": "https://localhost:8080/"
        },
        "id": "r9kN6gEViFLc",
        "outputId": "3473b4a1-748e-4ad6-fa05-ac79c638d412"
      },
      "execution_count": null,
      "outputs": [
        {
          "output_type": "stream",
          "name": "stdout",
          "text": [
            "grade 1\n"
          ]
        }
      ]
    },
    {
      "cell_type": "code",
      "source": [
        "x=int(input())\n",
        "if x>=80:\n",
        "  print(\"grade 1\")\n",
        "elif x>60 and x<80:\n",
        "  print(\"grade 2\")\n",
        "else:\n",
        "  print(\"fail\")"
      ],
      "metadata": {
        "colab": {
          "base_uri": "https://localhost:8080/"
        },
        "id": "VGkHv-uYlLWE",
        "outputId": "2fb39274-c54d-4bcb-dab2-6177d2776f05"
      },
      "execution_count": null,
      "outputs": [
        {
          "output_type": "stream",
          "name": "stdout",
          "text": [
            "80\n",
            "grade 1\n"
          ]
        }
      ]
    },
    {
      "cell_type": "code",
      "source": [
        "num = int(input(\"enter a number\"))\n",
        "if num>0:\n",
        "  print(\"positive\")\n",
        "elif num<0:\n",
        "  print(\"negative\")\n",
        "else:\n",
        "  print(\"zero\")"
      ],
      "metadata": {
        "colab": {
          "base_uri": "https://localhost:8080/"
        },
        "id": "LMEvf-ISlLSk",
        "outputId": "26805880-fc4c-4611-f6c9-0268e09f11e7"
      },
      "execution_count": null,
      "outputs": [
        {
          "output_type": "stream",
          "name": "stdout",
          "text": [
            "enter a number8\n",
            "positive\n"
          ]
        }
      ]
    },
    {
      "cell_type": "code",
      "source": [
        "num = int(input(\"enter a number: \"))\n",
        "if num%2==0:\n",
        "  print(\"Even Number\")\n",
        "else:\n",
        "  print(\"odd number\")"
      ],
      "metadata": {
        "colab": {
          "base_uri": "https://localhost:8080/"
        },
        "id": "Z5U4LumHlLPf",
        "outputId": "946c97e2-6029-462a-96cb-d25df68ce625"
      },
      "execution_count": null,
      "outputs": [
        {
          "output_type": "stream",
          "name": "stdout",
          "text": [
            "enter a number: 5\n",
            "odd number\n"
          ]
        }
      ]
    },
    {
      "cell_type": "code",
      "source": [
        "char = input(\"Enter a single letter: \").lower()\n",
        "if char in 'aeiou':\n",
        "  print(\"vowel\")\n",
        "else:\n",
        "  print(\"constant\")\n",
        "\n",
        "\n"
      ],
      "metadata": {
        "colab": {
          "base_uri": "https://localhost:8080/"
        },
        "id": "vvlQxOcZlLMz",
        "outputId": "a2f89ce7-6615-4163-ccbc-41844bec5f3b"
      },
      "execution_count": null,
      "outputs": [
        {
          "output_type": "stream",
          "name": "stdout",
          "text": [
            "Enter a single letter: h\n",
            "constant\n"
          ]
        }
      ]
    },
    {
      "cell_type": "code",
      "source": [],
      "metadata": {
        "id": "tvbPJ3rnlLJt"
      },
      "execution_count": null,
      "outputs": []
    },
    {
      "cell_type": "code",
      "source": [
        "username = input(\"Enter a username: \")\n",
        "if len(username) <5:\n",
        "  print(\"Too short\")\n",
        "elif len(username)>15:\n",
        "  print(\"too long\")\n",
        "else:\n",
        "  print(\"valid usernamr\")"
      ],
      "metadata": {
        "colab": {
          "base_uri": "https://localhost:8080/"
        },
        "id": "UWNmJjtalLGz",
        "outputId": "d091247f-a5f1-4cc7-a6a7-b2c6f3844579"
      },
      "execution_count": null,
      "outputs": [
        {
          "output_type": "stream",
          "name": "stdout",
          "text": [
            "Enter a username: 345678\n",
            "valid usernamr\n"
          ]
        }
      ]
    },
    {
      "cell_type": "code",
      "source": [
        "for i in [1,2,3,4]:\n",
        "  print(i)"
      ],
      "metadata": {
        "colab": {
          "base_uri": "https://localhost:8080/"
        },
        "id": "7yjTovSWlLDy",
        "outputId": "c4f94a2c-9e4c-45a5-abc0-82abcee0eab7"
      },
      "execution_count": null,
      "outputs": [
        {
          "output_type": "stream",
          "name": "stdout",
          "text": [
            "1\n",
            "2\n",
            "3\n",
            "4\n"
          ]
        }
      ]
    },
    {
      "cell_type": "code",
      "source": [
        "for i in \"data science\".split():\n",
        "  print(i)"
      ],
      "metadata": {
        "colab": {
          "base_uri": "https://localhost:8080/"
        },
        "id": "USZcr2gSlLBI",
        "outputId": "0fef6cb5-2dd0-46c0-efdb-37d59c0f1e0f"
      },
      "execution_count": null,
      "outputs": [
        {
          "output_type": "stream",
          "name": "stdout",
          "text": [
            "data\n",
            "science\n"
          ]
        }
      ]
    },
    {
      "cell_type": "code",
      "source": [
        "for i in \"data science\".split(\"a\"):\n",
        "  print(i)"
      ],
      "metadata": {
        "colab": {
          "base_uri": "https://localhost:8080/"
        },
        "id": "9B6GhnSWlK-S",
        "outputId": "443e9c73-5bb8-4486-86c8-ecf5c1aba4b0"
      },
      "execution_count": null,
      "outputs": [
        {
          "output_type": "stream",
          "name": "stdout",
          "text": [
            "d\n",
            "t\n",
            " science\n"
          ]
        }
      ]
    },
    {
      "cell_type": "code",
      "source": [
        "for i in \"data756\":\n",
        "  if i.isalpha():\n",
        "    print(i, end=',')"
      ],
      "metadata": {
        "colab": {
          "base_uri": "https://localhost:8080/"
        },
        "id": "v0ZDjGbnlK7K",
        "outputId": "c4d1a010-6399-4bae-82b9-d19062627ad8"
      },
      "execution_count": null,
      "outputs": [
        {
          "output_type": "stream",
          "name": "stdout",
          "text": [
            "d,a,t,a,"
          ]
        }
      ]
    },
    {
      "cell_type": "code",
      "source": [
        "\"1\"*3"
      ],
      "metadata": {
        "colab": {
          "base_uri": "https://localhost:8080/",
          "height": 35
        },
        "id": "ex0_3aEOlK4V",
        "outputId": "547e1fb5-9f38-43b1-cad2-c8937c961034"
      },
      "execution_count": null,
      "outputs": [
        {
          "output_type": "execute_result",
          "data": {
            "text/plain": [
              "'111'"
            ],
            "application/vnd.google.colaboratory.intrinsic+json": {
              "type": "string"
            }
          },
          "metadata": {},
          "execution_count": 52
        }
      ]
    },
    {
      "cell_type": "code",
      "source": [
        "\"1\"+\"1\"+\"data\""
      ],
      "metadata": {
        "colab": {
          "base_uri": "https://localhost:8080/",
          "height": 35
        },
        "id": "fMDrQ-QvlK1f",
        "outputId": "a38918e5-57b6-4037-8997-427e08529a0b"
      },
      "execution_count": null,
      "outputs": [
        {
          "output_type": "execute_result",
          "data": {
            "text/plain": [
              "'11data'"
            ],
            "application/vnd.google.colaboratory.intrinsic+json": {
              "type": "string"
            }
          },
          "metadata": {},
          "execution_count": 54
        }
      ]
    },
    {
      "cell_type": "code",
      "source": [
        "for i in range(0,10,2):\n",
        "  print(i, end=',')"
      ],
      "metadata": {
        "id": "_hVr4TMJlKyL",
        "colab": {
          "base_uri": "https://localhost:8080/"
        },
        "outputId": "8302d130-d75d-42ba-9df9-23ff5f252f78"
      },
      "execution_count": 5,
      "outputs": [
        {
          "output_type": "stream",
          "name": "stdout",
          "text": [
            "0,2,4,6,8,"
          ]
        }
      ]
    },
    {
      "cell_type": "code",
      "source": [
        "for i in range(10,1,-1):\n",
        "  print(i, end=',')"
      ],
      "metadata": {
        "id": "1mkvgeIZlKvE",
        "colab": {
          "base_uri": "https://localhost:8080/"
        },
        "outputId": "b909bdd5-69dd-486a-9b5c-131246cac280"
      },
      "execution_count": 7,
      "outputs": [
        {
          "output_type": "stream",
          "name": "stdout",
          "text": [
            "10,9,8,7,6,5,4,3,2,"
          ]
        }
      ]
    },
    {
      "cell_type": "code",
      "source": [
        "for i in range(1,6):\n",
        "  print(\"*\"*i)"
      ],
      "metadata": {
        "id": "ZsugDvk2iFH8",
        "colab": {
          "base_uri": "https://localhost:8080/"
        },
        "outputId": "21a667da-2da1-4236-898d-a03e5908293f"
      },
      "execution_count": 15,
      "outputs": [
        {
          "output_type": "stream",
          "name": "stdout",
          "text": [
            "*\n",
            "**\n",
            "***\n",
            "****\n",
            "*****\n"
          ]
        }
      ]
    },
    {
      "cell_type": "code",
      "source": [
        "for i in range(6,0,-1):\n",
        "  print(\"*\"*i)"
      ],
      "metadata": {
        "id": "8N1n0JjQiFFV",
        "colab": {
          "base_uri": "https://localhost:8080/"
        },
        "outputId": "4099a570-6a7d-4716-abda-f26fe3bbad02"
      },
      "execution_count": 14,
      "outputs": [
        {
          "output_type": "stream",
          "name": "stdout",
          "text": [
            "******\n",
            "*****\n",
            "****\n",
            "***\n",
            "**\n",
            "*\n"
          ]
        }
      ]
    },
    {
      "cell_type": "code",
      "source": [
        "for i in range(1,6):\n",
        "  print(\"*\"*(6-i))"
      ],
      "metadata": {
        "id": "i2DH4fMWiFCB",
        "colab": {
          "base_uri": "https://localhost:8080/"
        },
        "outputId": "4f8e240c-d0ad-4b03-a4c4-7efd18450ab4"
      },
      "execution_count": 16,
      "outputs": [
        {
          "output_type": "stream",
          "name": "stdout",
          "text": [
            "*****\n",
            "****\n",
            "***\n",
            "**\n",
            "*\n"
          ]
        }
      ]
    },
    {
      "cell_type": "code",
      "source": [
        " customer_review= \"hgvu yhj bjbjj jbbhjb gh hv mhcytgv 8754 89y7 @#$^%&*\""
      ],
      "metadata": {
        "id": "ogmX6xObiE-p"
      },
      "execution_count": 18,
      "outputs": []
    },
    {
      "cell_type": "code",
      "source": [
        "for i in customer_review:\n",
        "  if not((i.isalnum() or i.isalpha() or i.isspace())):\n",
        "    print(i)"
      ],
      "metadata": {
        "id": "kBVw_lHkiE7f",
        "colab": {
          "base_uri": "https://localhost:8080/"
        },
        "outputId": "a063a47c-7fba-45dc-8ca0-1b28f9733788"
      },
      "execution_count": 21,
      "outputs": [
        {
          "output_type": "stream",
          "name": "stdout",
          "text": [
            "@\n",
            "#\n",
            "$\n",
            "^\n",
            "%\n",
            "&\n",
            "*\n"
          ]
        }
      ]
    },
    {
      "cell_type": "code",
      "source": [
        "for i in customer_review.split():\n",
        "  print(i,len(i))"
      ],
      "metadata": {
        "id": "asok7l2qiE4a",
        "colab": {
          "base_uri": "https://localhost:8080/"
        },
        "outputId": "f740effd-9b8d-49cb-a1e6-2dc874e2bd86"
      },
      "execution_count": 23,
      "outputs": [
        {
          "output_type": "stream",
          "name": "stdout",
          "text": [
            "hgvu 4\n",
            "yhj 3\n",
            "bjbjj 5\n",
            "jbbhjb 6\n",
            "gh 2\n",
            "hv 2\n",
            "mhcytgv 7\n",
            "8754 4\n",
            "89y7 4\n",
            "@#$^%&* 7\n"
          ]
        }
      ]
    },
    {
      "cell_type": "code",
      "source": [
        "d={}\n",
        "for i in customer_review.split():\n",
        "  d[i]=len(i)\n",
        ""
      ],
      "metadata": {
        "id": "L15OzUTDiE09"
      },
      "execution_count": 32,
      "outputs": []
    },
    {
      "cell_type": "code",
      "source": [
        "d"
      ],
      "metadata": {
        "id": "KneZ2hkfiEx2",
        "colab": {
          "base_uri": "https://localhost:8080/"
        },
        "outputId": "8f9a4a01-9867-478f-bb82-ca315684b564"
      },
      "execution_count": 33,
      "outputs": [
        {
          "output_type": "execute_result",
          "data": {
            "text/plain": [
              "{'hgvu': 4,\n",
              " 'yhj': 3,\n",
              " 'bjbjj': 5,\n",
              " 'jbbhjb': 6,\n",
              " 'gh': 2,\n",
              " 'hv': 2,\n",
              " 'mhcytgv': 7,\n",
              " '8754': 4,\n",
              " '89y7': 4,\n",
              " '@#$^%&*': 7}"
            ]
          },
          "metadata": {},
          "execution_count": 33
        }
      ]
    },
    {
      "cell_type": "code",
      "source": [
        "customer_review"
      ],
      "metadata": {
        "id": "1r40Z22OiEue",
        "colab": {
          "base_uri": "https://localhost:8080/",
          "height": 35
        },
        "outputId": "7eaaeaf3-95f0-485f-a30a-9c908c360efc"
      },
      "execution_count": 34,
      "outputs": [
        {
          "output_type": "execute_result",
          "data": {
            "text/plain": [
              "'hgvu yhj bjbjj jbbhjb gh hv mhcytgv 8754 89y7 @#$^%&*'"
            ],
            "application/vnd.google.colaboratory.intrinsic+json": {
              "type": "string"
            }
          },
          "metadata": {},
          "execution_count": 34
        }
      ]
    },
    {
      "cell_type": "code",
      "source": [
        "customer_review\n",
        "counter=0\n",
        "for i in customer_review:\n",
        "  if i in \"aeiouAEIOU\":\n",
        "    counter=counter+1\n",
        "    print(counter)"
      ],
      "metadata": {
        "id": "xNlpg2qkiEoL",
        "colab": {
          "base_uri": "https://localhost:8080/"
        },
        "outputId": "81a0d654-3d65-4ce2-b5ea-ea4f98e17df5"
      },
      "execution_count": 36,
      "outputs": [
        {
          "output_type": "stream",
          "name": "stdout",
          "text": [
            "1\n"
          ]
        }
      ]
    },
    {
      "cell_type": "code",
      "source": [
        "x=\"data\"\n",
        "for i in range(1,len(x)+1):\n",
        "  print(x[0:i])"
      ],
      "metadata": {
        "id": "Bi0-JcciiEkx",
        "colab": {
          "base_uri": "https://localhost:8080/"
        },
        "outputId": "fae32d6b-8f8d-4c6b-c857-eeaa4ce2e7fe"
      },
      "execution_count": 41,
      "outputs": [
        {
          "output_type": "stream",
          "name": "stdout",
          "text": [
            "d\n",
            "da\n",
            "dat\n",
            "data\n"
          ]
        }
      ]
    },
    {
      "cell_type": "code",
      "source": [
        "for i in range(0,10,2):\n",
        "  for j in range(0,10,3):\n",
        "    print(i,j)"
      ],
      "metadata": {
        "id": "pJzSR0f6iEhG"
      },
      "execution_count": 39,
      "outputs": []
    },
    {
      "cell_type": "code",
      "source": [],
      "metadata": {
        "id": "LrONUwzWiEaO"
      },
      "execution_count": 39,
      "outputs": []
    },
    {
      "cell_type": "code",
      "source": [],
      "metadata": {
        "id": "xywRDuMCiEIf"
      },
      "execution_count": null,
      "outputs": []
    },
    {
      "cell_type": "code",
      "source": [],
      "metadata": {
        "id": "1WDYqiPEiEFG"
      },
      "execution_count": null,
      "outputs": []
    },
    {
      "cell_type": "code",
      "source": [],
      "metadata": {
        "id": "eTfV-d7NiEBt"
      },
      "execution_count": null,
      "outputs": []
    },
    {
      "cell_type": "code",
      "source": [],
      "metadata": {
        "id": "qE_aKEEJiD-U"
      },
      "execution_count": null,
      "outputs": []
    },
    {
      "cell_type": "code",
      "source": [],
      "metadata": {
        "id": "4D1Y8TfJiD63"
      },
      "execution_count": null,
      "outputs": []
    },
    {
      "cell_type": "code",
      "source": [],
      "metadata": {
        "id": "zGs9Txw7iD3v"
      },
      "execution_count": null,
      "outputs": []
    },
    {
      "cell_type": "code",
      "source": [],
      "metadata": {
        "id": "hMYqB1BtiD0Z"
      },
      "execution_count": null,
      "outputs": []
    },
    {
      "cell_type": "code",
      "source": [],
      "metadata": {
        "id": "T8haLNLeiDxT"
      },
      "execution_count": null,
      "outputs": []
    },
    {
      "cell_type": "code",
      "source": [],
      "metadata": {
        "id": "5J9FOjfniDts"
      },
      "execution_count": null,
      "outputs": []
    },
    {
      "cell_type": "code",
      "source": [],
      "metadata": {
        "id": "tTB0wzGRiDqU"
      },
      "execution_count": null,
      "outputs": []
    },
    {
      "cell_type": "code",
      "source": [],
      "metadata": {
        "id": "0OrzAYkyiDnC"
      },
      "execution_count": null,
      "outputs": []
    },
    {
      "cell_type": "code",
      "source": [],
      "metadata": {
        "id": "jZ1PqoNOiDj-"
      },
      "execution_count": null,
      "outputs": []
    },
    {
      "cell_type": "code",
      "source": [],
      "metadata": {
        "id": "wf0fWS7diDg2"
      },
      "execution_count": null,
      "outputs": []
    },
    {
      "cell_type": "code",
      "source": [],
      "metadata": {
        "id": "K9wyX1BFiDdc"
      },
      "execution_count": null,
      "outputs": []
    },
    {
      "cell_type": "code",
      "source": [],
      "metadata": {
        "id": "WXiHazHbiDaW"
      },
      "execution_count": null,
      "outputs": []
    },
    {
      "cell_type": "code",
      "source": [],
      "metadata": {
        "id": "olm1WNN5iDXS"
      },
      "execution_count": null,
      "outputs": []
    },
    {
      "cell_type": "code",
      "source": [],
      "metadata": {
        "id": "z_srsCPGiDUH"
      },
      "execution_count": null,
      "outputs": []
    },
    {
      "cell_type": "code",
      "source": [],
      "metadata": {
        "id": "7i2juMqEiDQ0"
      },
      "execution_count": null,
      "outputs": []
    },
    {
      "cell_type": "code",
      "source": [],
      "metadata": {
        "id": "8NquBKhKiDNp"
      },
      "execution_count": null,
      "outputs": []
    }
  ]
}