{
  "nbformat": 4,
  "nbformat_minor": 0,
  "metadata": {
    "colab": {
      "provenance": []
    },
    "kernelspec": {
      "name": "python3",
      "display_name": "Python 3"
    },
    "language_info": {
      "name": "python"
    }
  },
  "cells": [
    {
      "cell_type": "code",
      "execution_count": 1,
      "metadata": {
        "id": "0WtmSrn32j_C"
      },
      "outputs": [],
      "source": [
        "import numpy as np\n"
      ]
    },
    {
      "cell_type": "code",
      "source": [
        "np.loadtxt(\"/content/sample.csv\",delimiter=\",\",skiprows=1)"
      ],
      "metadata": {
        "colab": {
          "base_uri": "https://localhost:8080/"
        },
        "id": "ZcJ2mheV3ALI",
        "outputId": "5b2d204d-dba4-4e8f-acf1-8405af2386bf"
      },
      "execution_count": 4,
      "outputs": [
        {
          "output_type": "execute_result",
          "data": {
            "text/plain": [
              "array([[42., 88., 62.],\n",
              "       [81., 53., 89.],\n",
              "       [37., 48., 87.],\n",
              "       [89., 53., 67.],\n",
              "       [94., 88., 60.],\n",
              "       [13., 29., 26.]])"
            ]
          },
          "metadata": {},
          "execution_count": 4
        }
      ]
    },
    {
      "cell_type": "code",
      "source": [
        "data=np.random.randint(0,10,(10,10))"
      ],
      "metadata": {
        "id": "hwHsjuEd8xj1"
      },
      "execution_count": 16,
      "outputs": []
    },
    {
      "cell_type": "code",
      "source": [
        "np.save(\"array.npy\",data)"
      ],
      "metadata": {
        "id": "7HI7kfs08xhA"
      },
      "execution_count": 17,
      "outputs": []
    },
    {
      "cell_type": "code",
      "source": [
        "np.load(\"/content/array.npy\")"
      ],
      "metadata": {
        "colab": {
          "base_uri": "https://localhost:8080/"
        },
        "id": "70trP6kb8xeC",
        "outputId": "bdfadf9d-0c6d-4c2b-a851-13fd0a6fc80a"
      },
      "execution_count": 10,
      "outputs": [
        {
          "output_type": "execute_result",
          "data": {
            "text/plain": [
              "array([[8, 5, 6, 5, 6, 9, 0, 5, 0, 9],\n",
              "       [7, 7, 4, 4, 6, 4, 2, 1, 4, 9],\n",
              "       [3, 8, 2, 2, 3, 6, 9, 5, 5, 5],\n",
              "       [0, 7, 2, 1, 5, 7, 8, 8, 9, 2],\n",
              "       [5, 5, 6, 0, 0, 6, 8, 7, 8, 2],\n",
              "       [0, 3, 5, 7, 9, 2, 0, 7, 8, 0],\n",
              "       [7, 9, 2, 0, 8, 0, 8, 9, 4, 4],\n",
              "       [9, 4, 7, 6, 6, 8, 5, 9, 8, 9],\n",
              "       [9, 9, 7, 3, 8, 4, 3, 8, 2, 2],\n",
              "       [4, 9, 1, 0, 8, 8, 5, 0, 8, 7]])"
            ]
          },
          "metadata": {},
          "execution_count": 10
        }
      ]
    },
    {
      "cell_type": "code",
      "source": [
        "arr=np.fromstring(\"1 2 3 4 5\",sep=\" \")\n",
        "arr"
      ],
      "metadata": {
        "colab": {
          "base_uri": "https://localhost:8080/"
        },
        "id": "oDe-PHq0-ATr",
        "outputId": "ec6adf69-9f51-44cd-b9d6-fac4cd4ddf50"
      },
      "execution_count": 21,
      "outputs": [
        {
          "output_type": "execute_result",
          "data": {
            "text/plain": [
              "array([1., 2., 3., 4., 5.])"
            ]
          },
          "metadata": {},
          "execution_count": 21
        }
      ]
    },
    {
      "cell_type": "code",
      "source": [
        "txt=open(\"/content/sample.txt\")\n",
        "print(txt.read())"
      ],
      "metadata": {
        "colab": {
          "base_uri": "https://localhost:8080/"
        },
        "id": "1jzMVGs6-AQO",
        "outputId": "3c28494e-99d3-4ee4-fd5d-22f47034443b"
      },
      "execution_count": 26,
      "outputs": [
        {
          "output_type": "stream",
          "name": "stdout",
          "text": [
            "sample text\n",
            "sample text\n",
            "sample text\n",
            "sample text\n",
            "sample text\n",
            "\n"
          ]
        }
      ]
    },
    {
      "cell_type": "code",
      "source": [
        "txt.seek(0)\n",
        "print(txt.read())\n"
      ],
      "metadata": {
        "colab": {
          "base_uri": "https://localhost:8080/"
        },
        "id": "xWop4i3V-ANr",
        "outputId": "ca398fb6-4c9d-4cb8-c0d9-2c997082fe61"
      },
      "execution_count": 30,
      "outputs": [
        {
          "output_type": "stream",
          "name": "stdout",
          "text": [
            "abc\n",
            "abc\n",
            "abc\n",
            "abc\n",
            "abc\n",
            "abc\n",
            "abc\n"
          ]
        }
      ]
    },
    {
      "cell_type": "code",
      "source": [
        "txt.seek(0)\n",
        "txt.read().splitlines()"
      ],
      "metadata": {
        "colab": {
          "base_uri": "https://localhost:8080/"
        },
        "id": "9zZ1nW4m-ALE",
        "outputId": "6a607142-bc54-4a5d-9126-5c57721e77fa"
      },
      "execution_count": 34,
      "outputs": [
        {
          "output_type": "execute_result",
          "data": {
            "text/plain": [
              "['abc', 'abc', 'abc', 'abc', 'abc', 'abc', 'abc']"
            ]
          },
          "metadata": {},
          "execution_count": 34
        }
      ]
    },
    {
      "cell_type": "code",
      "source": [
        "with open(\"/content/sample.txt\",\"w\") as file:\n",
        "  file.write(\"first code\")"
      ],
      "metadata": {
        "id": "2wndDnhHPo39"
      },
      "execution_count": 37,
      "outputs": []
    },
    {
      "cell_type": "code",
      "source": [
        "with open(\"/content/sample.txt\",\"r\") as file:\n",
        "  j=file.read()\n",
        "  print(j)"
      ],
      "metadata": {
        "colab": {
          "base_uri": "https://localhost:8080/"
        },
        "id": "JD5NKuN3Po0j",
        "outputId": "7bbc1d68-1838-4baa-8c88-822671441e2e"
      },
      "execution_count": 42,
      "outputs": [
        {
          "output_type": "stream",
          "name": "stdout",
          "text": [
            "first code\n"
          ]
        }
      ]
    },
    {
      "cell_type": "code",
      "source": [
        "with open(\"/content/sample.txt\",\"a\") as file:\n",
        "  file.write(\"first code \\n\")\n",
        "  file.write(\"second code \\n\")\n",
        "  file.write(\"third code \\n\")"
      ],
      "metadata": {
        "id": "ZfRaqvqGPoxl"
      },
      "execution_count": 46,
      "outputs": []
    },
    {
      "cell_type": "code",
      "source": [
        "with open(\"/content/sample.txt\",\"r\") as file:\n",
        "  l=file.read()\n",
        "  print(l)"
      ],
      "metadata": {
        "colab": {
          "base_uri": "https://localhost:8080/"
        },
        "id": "bQrMFsGdV1XR",
        "outputId": "7d809131-bd0d-4086-83f4-d92afbaf2e48"
      },
      "execution_count": 47,
      "outputs": [
        {
          "output_type": "stream",
          "name": "stdout",
          "text": [
            "first code \n",
            "second code \n",
            "third code \n",
            "first code \n",
            "second code \n",
            "third code \n",
            "\n"
          ]
        }
      ]
    },
    {
      "cell_type": "code",
      "source": [
        "with open(\"/content/sample.txt\",\"r+\") as file:\n",
        "  text=file.read()\n",
        "  file.seek(0)\n",
        "  file.write(\"parrot\" +text)"
      ],
      "metadata": {
        "id": "FGYGPscvV1Ts"
      },
      "execution_count": 59,
      "outputs": []
    },
    {
      "cell_type": "code",
      "source": [
        "with open(\"/content/sample.txt\",\"r\") as file:\n",
        "  k=file.read()\n",
        "  print(k)"
      ],
      "metadata": {
        "colab": {
          "base_uri": "https://localhost:8080/"
        },
        "id": "T6Sdz5IdWu_b",
        "outputId": "cd9d771d-be68-41a7-cc64-aa3fc19ac832"
      },
      "execution_count": 58,
      "outputs": [
        {
          "output_type": "stream",
          "name": "stdout",
          "text": [
            "sparrotsample\n",
            "\n",
            "\n"
          ]
        }
      ]
    },
    {
      "cell_type": "code",
      "source": [],
      "metadata": {
        "id": "bbU1SHpgWu76"
      },
      "execution_count": null,
      "outputs": []
    },
    {
      "cell_type": "code",
      "source": [],
      "metadata": {
        "id": "ktmCv9IOV1RU"
      },
      "execution_count": null,
      "outputs": []
    },
    {
      "cell_type": "code",
      "source": [],
      "metadata": {
        "id": "D_S3FdP0V1OT"
      },
      "execution_count": null,
      "outputs": []
    },
    {
      "cell_type": "code",
      "source": [],
      "metadata": {
        "id": "glIq7wZVV1Lg"
      },
      "execution_count": null,
      "outputs": []
    },
    {
      "cell_type": "code",
      "source": [],
      "metadata": {
        "id": "Sjd2EE5GV0p4"
      },
      "execution_count": null,
      "outputs": []
    },
    {
      "cell_type": "code",
      "source": [],
      "metadata": {
        "id": "DgzwswNJPouf"
      },
      "execution_count": null,
      "outputs": []
    },
    {
      "cell_type": "code",
      "source": [],
      "metadata": {
        "id": "HaS4pADaPorn"
      },
      "execution_count": null,
      "outputs": []
    },
    {
      "cell_type": "code",
      "source": [],
      "metadata": {
        "id": "ghdDBgkI-AIl"
      },
      "execution_count": null,
      "outputs": []
    },
    {
      "cell_type": "code",
      "source": [],
      "metadata": {
        "id": "lnWP4M-q8xbP"
      },
      "execution_count": null,
      "outputs": []
    }
  ]
}