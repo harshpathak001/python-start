{
  "nbformat": 4,
  "nbformat_minor": 0,
  "metadata": {
    "colab": {
      "provenance": []
    },
    "kernelspec": {
      "name": "python3",
      "display_name": "Python 3"
    },
    "language_info": {
      "name": "python"
    }
  },
  "cells": [
    {
      "cell_type": "code",
      "source": [
        "import numpy as np\n",
        "import math"
      ],
      "metadata": {
        "id": "WhFuHS70eczy"
      },
      "execution_count": 2,
      "outputs": []
    },
    {
      "cell_type": "code",
      "source": [
        "np.e"
      ],
      "metadata": {
        "colab": {
          "base_uri": "https://localhost:8080/"
        },
        "id": "w0--AuQfecwU",
        "outputId": "a94696cf-be11-4076-b526-db40ef4bad19"
      },
      "execution_count": 3,
      "outputs": [
        {
          "output_type": "execute_result",
          "data": {
            "text/plain": [
              "2.718281828459045"
            ]
          },
          "metadata": {},
          "execution_count": 3
        }
      ]
    },
    {
      "cell_type": "code",
      "source": [
        "(math.pow(2.718281828459045,0.2867))"
      ],
      "metadata": {
        "colab": {
          "base_uri": "https://localhost:8080/"
        },
        "id": "lC8i6VX6kvG9",
        "outputId": "b9638188-7e7e-4e29-f403-9ad7aac5d900"
      },
      "execution_count": 6,
      "outputs": [
        {
          "output_type": "execute_result",
          "data": {
            "text/plain": [
              "1.3320245461647273"
            ]
          },
          "metadata": {},
          "execution_count": 6
        }
      ]
    },
    {
      "cell_type": "code",
      "source": [
        "np.log(math.pow(2.718281828459045,0.2867))"
      ],
      "metadata": {
        "colab": {
          "base_uri": "https://localhost:8080/"
        },
        "id": "mYdXNDKSectG",
        "outputId": "1eaa7708-67b7-41dc-c4a0-eadd15ab0c02"
      },
      "execution_count": 5,
      "outputs": [
        {
          "output_type": "execute_result",
          "data": {
            "text/plain": [
              "np.float64(0.2867)"
            ]
          },
          "metadata": {},
          "execution_count": 5
        }
      ]
    },
    {
      "cell_type": "code",
      "source": [
        "data1=np.random.randint(0,10,(3,3))\n",
        "data2=np.random.randint(0,10,(3,3))\n",
        "data1"
      ],
      "metadata": {
        "colab": {
          "base_uri": "https://localhost:8080/"
        },
        "id": "fcXDCHrmecqY",
        "outputId": "27d215f9-791f-4d22-a80f-5d0ef4da5830"
      },
      "execution_count": 10,
      "outputs": [
        {
          "output_type": "execute_result",
          "data": {
            "text/plain": [
              "array([[5, 1, 6],\n",
              "       [6, 0, 7],\n",
              "       [3, 0, 9]])"
            ]
          },
          "metadata": {},
          "execution_count": 10
        }
      ]
    },
    {
      "cell_type": "code",
      "source": [
        "data2"
      ],
      "metadata": {
        "colab": {
          "base_uri": "https://localhost:8080/"
        },
        "id": "AKb1cggAecnK",
        "outputId": "d7e01036-140e-4946-df20-52e882103d13"
      },
      "execution_count": 11,
      "outputs": [
        {
          "output_type": "execute_result",
          "data": {
            "text/plain": [
              "array([[3, 9, 7],\n",
              "       [2, 1, 0],\n",
              "       [7, 6, 5]])"
            ]
          },
          "metadata": {},
          "execution_count": 11
        }
      ]
    },
    {
      "cell_type": "code",
      "source": [
        "data1+data2"
      ],
      "metadata": {
        "colab": {
          "base_uri": "https://localhost:8080/"
        },
        "id": "P9IRTB63ecjt",
        "outputId": "9726719c-4bdd-453b-bf27-89def6d4f67e"
      },
      "execution_count": 12,
      "outputs": [
        {
          "output_type": "execute_result",
          "data": {
            "text/plain": [
              "array([[ 8, 10, 13],\n",
              "       [ 8,  1,  7],\n",
              "       [10,  6, 14]])"
            ]
          },
          "metadata": {},
          "execution_count": 12
        }
      ]
    },
    {
      "cell_type": "code",
      "source": [
        "np.add(data1,data2)"
      ],
      "metadata": {
        "colab": {
          "base_uri": "https://localhost:8080/"
        },
        "id": "kIxi1AWhecga",
        "outputId": "c1c5ecaf-1a43-4874-badf-12faf978bd17"
      },
      "execution_count": 14,
      "outputs": [
        {
          "output_type": "execute_result",
          "data": {
            "text/plain": [
              "array([[ 8, 10, 13],\n",
              "       [ 8,  1,  7],\n",
              "       [10,  6, 14]])"
            ]
          },
          "metadata": {},
          "execution_count": 14
        }
      ]
    },
    {
      "cell_type": "code",
      "source": [
        "np.subtract(data1,data2)"
      ],
      "metadata": {
        "colab": {
          "base_uri": "https://localhost:8080/"
        },
        "id": "qpK7FcmcmCLQ",
        "outputId": "79ed7f8c-9b8e-411b-fa0f-3886ea9c7097"
      },
      "execution_count": 17,
      "outputs": [
        {
          "output_type": "execute_result",
          "data": {
            "text/plain": [
              "array([[ 2, -8, -1],\n",
              "       [ 4, -1,  7],\n",
              "       [-4, -6,  4]])"
            ]
          },
          "metadata": {},
          "execution_count": 17
        }
      ]
    },
    {
      "cell_type": "code",
      "source": [
        "np.multiply(data1,data2)"
      ],
      "metadata": {
        "colab": {
          "base_uri": "https://localhost:8080/"
        },
        "id": "2xWhHTUAmCH3",
        "outputId": "f9c4e7af-fee0-4816-ed35-1b045d648b5b"
      },
      "execution_count": 18,
      "outputs": [
        {
          "output_type": "execute_result",
          "data": {
            "text/plain": [
              "array([[15,  9, 42],\n",
              "       [12,  0,  0],\n",
              "       [21,  0, 45]])"
            ]
          },
          "metadata": {},
          "execution_count": 18
        }
      ]
    },
    {
      "cell_type": "code",
      "source": [
        "np.divide(data1,data2)"
      ],
      "metadata": {
        "colab": {
          "base_uri": "https://localhost:8080/"
        },
        "id": "YL28l75mmCEt",
        "outputId": "5034d1ff-93d2-495f-fe32-5a7431f84ef7"
      },
      "execution_count": 19,
      "outputs": [
        {
          "output_type": "stream",
          "name": "stderr",
          "text": [
            "/tmp/ipython-input-18017515.py:1: RuntimeWarning: divide by zero encountered in divide\n",
            "  np.divide(data1,data2)\n"
          ]
        },
        {
          "output_type": "execute_result",
          "data": {
            "text/plain": [
              "array([[1.66666667, 0.11111111, 0.85714286],\n",
              "       [3.        , 0.        ,        inf],\n",
              "       [0.42857143, 0.        , 1.8       ]])"
            ]
          },
          "metadata": {},
          "execution_count": 19
        }
      ]
    },
    {
      "cell_type": "code",
      "source": [
        "data=np.random.randint(0,10,10)\n",
        "data"
      ],
      "metadata": {
        "colab": {
          "base_uri": "https://localhost:8080/"
        },
        "id": "d2_ZPZAbmCCG",
        "outputId": "273b0fa9-80e7-45a9-aed9-db679d66d751"
      },
      "execution_count": 20,
      "outputs": [
        {
          "output_type": "execute_result",
          "data": {
            "text/plain": [
              "array([3, 9, 5, 5, 3, 1, 8, 0, 1, 4])"
            ]
          },
          "metadata": {},
          "execution_count": 20
        }
      ]
    },
    {
      "cell_type": "code",
      "source": [
        "data>5"
      ],
      "metadata": {
        "colab": {
          "base_uri": "https://localhost:8080/"
        },
        "id": "zPCNDRmpnJQx",
        "outputId": "6dc6b679-f3ad-45ea-988c-4b59abcf7464"
      },
      "execution_count": 21,
      "outputs": [
        {
          "output_type": "execute_result",
          "data": {
            "text/plain": [
              "array([False,  True, False, False, False, False,  True, False, False,\n",
              "       False])"
            ]
          },
          "metadata": {},
          "execution_count": 21
        }
      ]
    },
    {
      "cell_type": "code",
      "source": [
        "data[data>5]"
      ],
      "metadata": {
        "colab": {
          "base_uri": "https://localhost:8080/"
        },
        "id": "wLsBmA7enJNR",
        "outputId": "ac57b792-07d3-4017-a671-81f584d1b43f"
      },
      "execution_count": 23,
      "outputs": [
        {
          "output_type": "execute_result",
          "data": {
            "text/plain": [
              "array([9, 8])"
            ]
          },
          "metadata": {},
          "execution_count": 23
        }
      ]
    },
    {
      "cell_type": "code",
      "source": [
        "marks=np.random.randint(0,100,20)\n",
        "marks"
      ],
      "metadata": {
        "colab": {
          "base_uri": "https://localhost:8080/"
        },
        "id": "RtveeuJFnJKS",
        "outputId": "ac382e09-548e-445a-e637-fd70f6c8f293"
      },
      "execution_count": 24,
      "outputs": [
        {
          "output_type": "execute_result",
          "data": {
            "text/plain": [
              "array([23, 44, 84, 48, 27,  4, 19, 30, 93, 37, 44, 95, 80, 33, 26, 67, 70,\n",
              "       37, 36, 27])"
            ]
          },
          "metadata": {},
          "execution_count": 24
        }
      ]
    },
    {
      "cell_type": "code",
      "source": [
        "marks[marks>50]"
      ],
      "metadata": {
        "colab": {
          "base_uri": "https://localhost:8080/"
        },
        "id": "BQgS27gqnJHb",
        "outputId": "1d58865f-3e1f-4249-96e5-3588babe9f72"
      },
      "execution_count": 25,
      "outputs": [
        {
          "output_type": "execute_result",
          "data": {
            "text/plain": [
              "array([84, 93, 95, 80, 67, 70])"
            ]
          },
          "metadata": {},
          "execution_count": 25
        }
      ]
    },
    {
      "cell_type": "code",
      "source": [
        "marks[marks<=50]"
      ],
      "metadata": {
        "colab": {
          "base_uri": "https://localhost:8080/"
        },
        "id": "H021UiwwnJEZ",
        "outputId": "a32c007b-4f2b-4c0a-cd9a-7f048f578845"
      },
      "execution_count": 26,
      "outputs": [
        {
          "output_type": "execute_result",
          "data": {
            "text/plain": [
              "array([23, 44, 48, 27,  4, 19, 30, 37, 44, 33, 26, 37, 36, 27])"
            ]
          },
          "metadata": {},
          "execution_count": 26
        }
      ]
    },
    {
      "cell_type": "code",
      "source": [
        "marks[marks>marks.mean()]"
      ],
      "metadata": {
        "colab": {
          "base_uri": "https://localhost:8080/"
        },
        "id": "dEK8veU5mBun",
        "outputId": "a3afcf4f-5b80-483c-dbef-0d384f57851d"
      },
      "execution_count": 29,
      "outputs": [
        {
          "output_type": "execute_result",
          "data": {
            "text/plain": [
              "array([84, 48, 93, 95, 80, 67, 70])"
            ]
          },
          "metadata": {},
          "execution_count": 29
        }
      ]
    },
    {
      "cell_type": "code",
      "source": [
        "marks[marks>np.mean(marks)]"
      ],
      "metadata": {
        "colab": {
          "base_uri": "https://localhost:8080/"
        },
        "id": "sRBdIgqMmBrC",
        "outputId": "dd7a3d6f-5db8-4848-ba31-582995f0b796"
      },
      "execution_count": 31,
      "outputs": [
        {
          "output_type": "execute_result",
          "data": {
            "text/plain": [
              "array([84, 48, 93, 95, 80, 67, 70])"
            ]
          },
          "metadata": {},
          "execution_count": 31
        }
      ]
    },
    {
      "cell_type": "code",
      "source": [
        "data=np.random.randint(0,10,(3,3))\n",
        "data"
      ],
      "metadata": {
        "colab": {
          "base_uri": "https://localhost:8080/"
        },
        "id": "KCciT41SmBoF",
        "outputId": "c3c0f860-d6e7-4a40-937a-2010701f787a"
      },
      "execution_count": 34,
      "outputs": [
        {
          "output_type": "execute_result",
          "data": {
            "text/plain": [
              "array([[6, 7, 4],\n",
              "       [7, 3, 3],\n",
              "       [0, 6, 3]])"
            ]
          },
          "metadata": {},
          "execution_count": 34
        }
      ]
    },
    {
      "cell_type": "code",
      "source": [
        "data.ravel()"
      ],
      "metadata": {
        "colab": {
          "base_uri": "https://localhost:8080/"
        },
        "id": "kEXoUI5tpNLi",
        "outputId": "736e6ac1-28a2-4fa2-9c1b-1ebba99b0128"
      },
      "execution_count": 35,
      "outputs": [
        {
          "output_type": "execute_result",
          "data": {
            "text/plain": [
              "array([6, 7, 4, 7, 3, 3, 0, 6, 3])"
            ]
          },
          "metadata": {},
          "execution_count": 35
        }
      ]
    },
    {
      "cell_type": "code",
      "source": [
        "data"
      ],
      "metadata": {
        "colab": {
          "base_uri": "https://localhost:8080/"
        },
        "id": "BzkKk7PbpNII",
        "outputId": "6419f776-4cb8-472d-de2c-a11ddf102da7"
      },
      "execution_count": 37,
      "outputs": [
        {
          "output_type": "execute_result",
          "data": {
            "text/plain": [
              "array([[6, 7, 4],\n",
              "       [7, 3, 3],\n",
              "       [0, 6, 3]])"
            ]
          },
          "metadata": {},
          "execution_count": 37
        }
      ]
    },
    {
      "cell_type": "code",
      "source": [
        "data.T"
      ],
      "metadata": {
        "colab": {
          "base_uri": "https://localhost:8080/"
        },
        "id": "2YbidWISpNFC",
        "outputId": "7c495014-14eb-43a3-a7d0-e64226d7b1ce"
      },
      "execution_count": 38,
      "outputs": [
        {
          "output_type": "execute_result",
          "data": {
            "text/plain": [
              "array([[6, 7, 0],\n",
              "       [7, 3, 6],\n",
              "       [4, 3, 3]])"
            ]
          },
          "metadata": {},
          "execution_count": 38
        }
      ]
    },
    {
      "cell_type": "code",
      "source": [
        "data=np.random.randint(0,10,20)\n",
        "data.reshape(4,5)"
      ],
      "metadata": {
        "colab": {
          "base_uri": "https://localhost:8080/"
        },
        "id": "ZXCPx-S7mBlA",
        "outputId": "f79a82d6-1acd-4fca-a32c-eb31c0d80346"
      },
      "execution_count": 46,
      "outputs": [
        {
          "output_type": "execute_result",
          "data": {
            "text/plain": [
              "array([[4, 8, 2, 3, 6],\n",
              "       [7, 2, 6, 9, 0],\n",
              "       [1, 7, 3, 6, 6],\n",
              "       [1, 2, 6, 1, 0]])"
            ]
          },
          "metadata": {},
          "execution_count": 46
        }
      ]
    },
    {
      "cell_type": "code",
      "source": [
        "data.reshape(4,5)"
      ],
      "metadata": {
        "colab": {
          "base_uri": "https://localhost:8080/"
        },
        "id": "lS8DY2mVp1BJ",
        "outputId": "732a756e-6607-4396-d229-52d275bd793d"
      },
      "execution_count": 41,
      "outputs": [
        {
          "output_type": "execute_result",
          "data": {
            "text/plain": [
              "array([[6, 9, 8, 8, 1],\n",
              "       [5, 4, 6, 1, 1],\n",
              "       [1, 6, 3, 2, 4],\n",
              "       [3, 4, 9, 2, 1]])"
            ]
          },
          "metadata": {},
          "execution_count": 41
        }
      ]
    },
    {
      "cell_type": "code",
      "source": [
        "data1=np.random.randint(0,10,(3,3))\n",
        "data2=np.random.randint(0,10,(3,3))"
      ],
      "metadata": {
        "id": "TLcs4DV5p0-o"
      },
      "execution_count": 47,
      "outputs": []
    },
    {
      "cell_type": "code",
      "source": [
        "data1"
      ],
      "metadata": {
        "colab": {
          "base_uri": "https://localhost:8080/"
        },
        "id": "FuT6FNv6p05g",
        "outputId": "4ab0b1d4-4a0a-4024-a3ee-cca61ac2a334"
      },
      "execution_count": 48,
      "outputs": [
        {
          "output_type": "execute_result",
          "data": {
            "text/plain": [
              "array([[4, 3, 5],\n",
              "       [3, 4, 7],\n",
              "       [8, 7, 6]])"
            ]
          },
          "metadata": {},
          "execution_count": 48
        }
      ]
    },
    {
      "cell_type": "code",
      "source": [
        "data2"
      ],
      "metadata": {
        "colab": {
          "base_uri": "https://localhost:8080/"
        },
        "id": "IN0q80Nvp0zL",
        "outputId": "04bc3f2e-a9b8-4925-c995-e89589a5633d"
      },
      "execution_count": 49,
      "outputs": [
        {
          "output_type": "execute_result",
          "data": {
            "text/plain": [
              "array([[7, 8, 0],\n",
              "       [8, 3, 2],\n",
              "       [0, 3, 9]])"
            ]
          },
          "metadata": {},
          "execution_count": 49
        }
      ]
    },
    {
      "cell_type": "code",
      "source": [
        "np.hstack([data1,data2])"
      ],
      "metadata": {
        "colab": {
          "base_uri": "https://localhost:8080/"
        },
        "id": "Y6DeNLPUp0v-",
        "outputId": "bc376a5c-4e1d-40f1-e200-f86e761a869a"
      },
      "execution_count": 51,
      "outputs": [
        {
          "output_type": "execute_result",
          "data": {
            "text/plain": [
              "array([[4, 3, 5, 7, 8, 0],\n",
              "       [3, 4, 7, 8, 3, 2],\n",
              "       [8, 7, 6, 0, 3, 9]])"
            ]
          },
          "metadata": {},
          "execution_count": 51
        }
      ]
    },
    {
      "cell_type": "code",
      "source": [
        "np.vstack([data1,data2])"
      ],
      "metadata": {
        "colab": {
          "base_uri": "https://localhost:8080/"
        },
        "id": "DzrZbvthraiu",
        "outputId": "854bf2d1-293d-44a6-f136-123e8b3301a0"
      },
      "execution_count": 52,
      "outputs": [
        {
          "output_type": "execute_result",
          "data": {
            "text/plain": [
              "array([[4, 3, 5],\n",
              "       [3, 4, 7],\n",
              "       [8, 7, 6],\n",
              "       [7, 8, 0],\n",
              "       [8, 3, 2],\n",
              "       [0, 3, 9]])"
            ]
          },
          "metadata": {},
          "execution_count": 52
        }
      ]
    },
    {
      "cell_type": "code",
      "source": [
        "data=np.random.randint(0,10,10)\n",
        "np.split(data,2) #it divide array in 2 equal parts because we write 2 in bracket"
      ],
      "metadata": {
        "colab": {
          "base_uri": "https://localhost:8080/"
        },
        "id": "iZeb8oQVrafG",
        "outputId": "7d3d2bc8-cb8b-4bcf-b405-fae84a734d3c"
      },
      "execution_count": 57,
      "outputs": [
        {
          "output_type": "execute_result",
          "data": {
            "text/plain": [
              "[array([7, 3, 1, 0, 9]), array([0, 1, 0, 7, 4])]"
            ]
          },
          "metadata": {},
          "execution_count": 57
        }
      ]
    },
    {
      "cell_type": "code",
      "source": [
        "matrix = np.array([[1,2,3,4],\n",
        "                [5,6,7,8]])\n",
        "matrix\n"
      ],
      "metadata": {
        "colab": {
          "base_uri": "https://localhost:8080/"
        },
        "id": "uAaTlHo4racd",
        "outputId": "14e955bd-920c-40c7-8931-bb97bd71707b"
      },
      "execution_count": 72,
      "outputs": [
        {
          "output_type": "execute_result",
          "data": {
            "text/plain": [
              "array([[1, 2, 3, 4],\n",
              "       [5, 6, 7, 8]])"
            ]
          },
          "metadata": {},
          "execution_count": 72
        }
      ]
    },
    {
      "cell_type": "code",
      "source": [
        "np.hsplit(matrix,2)"
      ],
      "metadata": {
        "colab": {
          "base_uri": "https://localhost:8080/"
        },
        "id": "jv1dAKILraZb",
        "outputId": "5c596684-104e-4bc4-e658-6e572960556e"
      },
      "execution_count": 77,
      "outputs": [
        {
          "output_type": "execute_result",
          "data": {
            "text/plain": [
              "[array([[1, 2],\n",
              "        [5, 6]]),\n",
              " array([[3, 4],\n",
              "        [7, 8]])]"
            ]
          },
          "metadata": {},
          "execution_count": 77
        }
      ]
    },
    {
      "cell_type": "code",
      "source": [
        "np.vsplit(matrix,2)"
      ],
      "metadata": {
        "colab": {
          "base_uri": "https://localhost:8080/"
        },
        "id": "S0-WEDpbraWT",
        "outputId": "bb2bd755-4c76-490e-fd34-e0d9384f856f"
      },
      "execution_count": 78,
      "outputs": [
        {
          "output_type": "execute_result",
          "data": {
            "text/plain": [
              "[array([[1, 2, 3, 4]]), array([[5, 6, 7, 8]])]"
            ]
          },
          "metadata": {},
          "execution_count": 78
        }
      ]
    },
    {
      "cell_type": "code",
      "source": [
        "matrix=np.array([[1,2,3,4],\n",
        "                 [5,6,7,8],\n",
        "                 [9,10,11,12],\n",
        "                 [13,14,14,16]])"
      ],
      "metadata": {
        "id": "1hMPtdryraTN"
      },
      "execution_count": 82,
      "outputs": []
    },
    {
      "cell_type": "code",
      "source": [
        "np.vsplit(matrix,2)"
      ],
      "metadata": {
        "colab": {
          "base_uri": "https://localhost:8080/"
        },
        "id": "VlSC0EIXraQ9",
        "outputId": "af6ab2d1-be40-4e9d-c45e-27869c1d1033"
      },
      "execution_count": 91,
      "outputs": [
        {
          "output_type": "execute_result",
          "data": {
            "text/plain": [
              "[array([[1, 2, 3, 4],\n",
              "        [5, 6, 7, 8]]),\n",
              " array([[ 9, 10, 11, 12],\n",
              "        [13, 14, 14, 16]])]"
            ]
          },
          "metadata": {},
          "execution_count": 91
        }
      ]
    },
    {
      "cell_type": "code",
      "source": [],
      "metadata": {
        "id": "DHtd8l4mraNw"
      },
      "execution_count": null,
      "outputs": []
    },
    {
      "cell_type": "code",
      "source": [],
      "metadata": {
        "id": "PFHPehD9raIn"
      },
      "execution_count": null,
      "outputs": []
    },
    {
      "cell_type": "code",
      "source": [],
      "metadata": {
        "id": "BMQ0R7hAraF6"
      },
      "execution_count": null,
      "outputs": []
    },
    {
      "cell_type": "code",
      "source": [],
      "metadata": {
        "id": "X9cD0xnYraCw"
      },
      "execution_count": null,
      "outputs": []
    },
    {
      "cell_type": "code",
      "source": [],
      "metadata": {
        "id": "vlg-fnt0rZ__"
      },
      "execution_count": null,
      "outputs": []
    },
    {
      "cell_type": "code",
      "source": [],
      "metadata": {
        "id": "SaLryh-4p0s6"
      },
      "execution_count": null,
      "outputs": []
    },
    {
      "cell_type": "code",
      "source": [],
      "metadata": {
        "id": "2PKWHYgBmBho"
      },
      "execution_count": null,
      "outputs": []
    },
    {
      "cell_type": "code",
      "execution_count": null,
      "metadata": {
        "id": "CKArKgNxeT2g"
      },
      "outputs": [],
      "source": []
    }
  ]
}