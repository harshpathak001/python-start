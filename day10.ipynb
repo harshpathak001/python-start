{
  "nbformat": 4,
  "nbformat_minor": 0,
  "metadata": {
    "colab": {
      "provenance": [],
      "toc_visible": true
    },
    "kernelspec": {
      "name": "python3",
      "display_name": "Python 3"
    },
    "language_info": {
      "name": "python"
    }
  },
  "cells": [
    {
      "cell_type": "code",
      "execution_count": null,
      "metadata": {
        "colab": {
          "base_uri": "https://localhost:8080/"
        },
        "id": "-cUnUbKUkbYa",
        "outputId": "1178b93b-1b5e-476b-f459-89026fb74025"
      },
      "outputs": [
        {
          "output_type": "execute_result",
          "data": {
            "text/plain": [
              "array([[41, 39, 65, 36, 13],\n",
              "       [29, 94, 76, 68, 12],\n",
              "       [25, 60, 20, 56, 89],\n",
              "       [99, 62,  0, 44, 25],\n",
              "       [ 0, 77, 22, 74, 67]])"
            ]
          },
          "metadata": {},
          "execution_count": 33
        }
      ],
      "source": [
        "import numpy as np\n",
        "data=np.random.randint(0,100,(5,5))\n",
        "data"
      ]
    },
    {
      "cell_type": "code",
      "source": [
        "type(data)"
      ],
      "metadata": {
        "colab": {
          "base_uri": "https://localhost:8080/"
        },
        "id": "qZG4UBQrkkiV",
        "outputId": "fb854786-4425-48fa-b95a-663a1fb18a85"
      },
      "execution_count": null,
      "outputs": [
        {
          "output_type": "execute_result",
          "data": {
            "text/plain": [
              "numpy.ndarray"
            ]
          },
          "metadata": {},
          "execution_count": 34
        }
      ]
    },
    {
      "cell_type": "code",
      "source": [
        "np.array([1,2,3])"
      ],
      "metadata": {
        "colab": {
          "base_uri": "https://localhost:8080/"
        },
        "id": "_4EbQIsukke3",
        "outputId": "16f8f463-7742-4ffa-d318-71ca3cc7f3eb"
      },
      "execution_count": null,
      "outputs": [
        {
          "output_type": "execute_result",
          "data": {
            "text/plain": [
              "array([1, 2, 3])"
            ]
          },
          "metadata": {},
          "execution_count": 35
        }
      ]
    },
    {
      "cell_type": "code",
      "source": [
        "type(np.array([1,2,3]))"
      ],
      "metadata": {
        "colab": {
          "base_uri": "https://localhost:8080/"
        },
        "id": "lIoU4cc2kqeh",
        "outputId": "9995c097-4225-4f90-f3fe-ec0283bea93e"
      },
      "execution_count": null,
      "outputs": [
        {
          "output_type": "execute_result",
          "data": {
            "text/plain": [
              "numpy.ndarray"
            ]
          },
          "metadata": {},
          "execution_count": 36
        }
      ]
    },
    {
      "cell_type": "code",
      "source": [
        "print(data)\n",
        "print(\" \")\n",
        "print(data[-3:-1,-3:-1])"
      ],
      "metadata": {
        "colab": {
          "base_uri": "https://localhost:8080/"
        },
        "id": "c1BDt_4ZkqX_",
        "outputId": "b4bd7e6a-fd83-484c-f90b-9fbadcd18e4e"
      },
      "execution_count": null,
      "outputs": [
        {
          "output_type": "stream",
          "name": "stdout",
          "text": [
            "[[41 39 65 36 13]\n",
            " [29 94 76 68 12]\n",
            " [25 60 20 56 89]\n",
            " [99 62  0 44 25]\n",
            " [ 0 77 22 74 67]]\n",
            " \n",
            "[[20 56]\n",
            " [ 0 44]]\n"
          ]
        }
      ]
    },
    {
      "cell_type": "code",
      "source": [
        "data[-2:-1,-2:-1]"
      ],
      "metadata": {
        "colab": {
          "base_uri": "https://localhost:8080/"
        },
        "id": "-cQ0Pa4xkqVB",
        "outputId": "40ceaa80-d501-4f22-d495-7e077a9ad727"
      },
      "execution_count": null,
      "outputs": [
        {
          "output_type": "execute_result",
          "data": {
            "text/plain": [
              "array([[44]])"
            ]
          },
          "metadata": {},
          "execution_count": 38
        }
      ]
    },
    {
      "cell_type": "code",
      "source": [
        "x=[1,2,3]\n",
        "print(type(x))\n",
        "y=np.array([1,2,3])\n",
        "print(type(y))"
      ],
      "metadata": {
        "colab": {
          "base_uri": "https://localhost:8080/"
        },
        "id": "CBdbZ2sOkqRz",
        "outputId": "647f9349-229d-421d-8a18-2fcd8a5edb34"
      },
      "execution_count": null,
      "outputs": [
        {
          "output_type": "stream",
          "name": "stdout",
          "text": [
            "<class 'list'>\n",
            "<class 'numpy.ndarray'>\n"
          ]
        }
      ]
    },
    {
      "cell_type": "code",
      "source": [
        "x=[1,2,3,6.0,\"data\"]\n",
        "y=np.array([1,2,3,6.0,\"data\"])"
      ],
      "metadata": {
        "id": "WR4EPCvqkqOo"
      },
      "execution_count": null,
      "outputs": []
    },
    {
      "cell_type": "code",
      "source": [
        "x"
      ],
      "metadata": {
        "colab": {
          "base_uri": "https://localhost:8080/"
        },
        "id": "8aXactu8kqLc",
        "outputId": "450e3ae9-d028-4c4e-a888-1a8ef585ce2e"
      },
      "execution_count": null,
      "outputs": [
        {
          "output_type": "execute_result",
          "data": {
            "text/plain": [
              "[1, 2, 3, 6.0, 'data']"
            ]
          },
          "metadata": {},
          "execution_count": 41
        }
      ]
    },
    {
      "cell_type": "code",
      "source": [
        "y"
      ],
      "metadata": {
        "colab": {
          "base_uri": "https://localhost:8080/"
        },
        "id": "hYE8GrrJkqIa",
        "outputId": "22d85d54-a0b6-4376-d78f-e4a547937aa5"
      },
      "execution_count": null,
      "outputs": [
        {
          "output_type": "execute_result",
          "data": {
            "text/plain": [
              "array(['1', '2', '3', '6.0', 'data'], dtype='<U32')"
            ]
          },
          "metadata": {},
          "execution_count": 42
        }
      ]
    },
    {
      "cell_type": "code",
      "source": [
        "###random family function\n"
      ],
      "metadata": {
        "id": "UPV1rWPHkqFY"
      },
      "execution_count": null,
      "outputs": []
    },
    {
      "cell_type": "code",
      "source": [
        "np.random.randint(0,100,5)"
      ],
      "metadata": {
        "colab": {
          "base_uri": "https://localhost:8080/"
        },
        "id": "GnLnuU8jkqCU",
        "outputId": "a0263123-92f9-4aa5-c83f-4acce3bdf6ad"
      },
      "execution_count": null,
      "outputs": [
        {
          "output_type": "execute_result",
          "data": {
            "text/plain": [
              "array([ 3, 44, 28, 57, 97])"
            ]
          },
          "metadata": {},
          "execution_count": 44
        }
      ]
    },
    {
      "cell_type": "code",
      "source": [
        "np.random.randint(0,100,(5,5))"
      ],
      "metadata": {
        "colab": {
          "base_uri": "https://localhost:8080/"
        },
        "id": "miMDz_m2kkbb",
        "outputId": "35753902-fd23-4c9e-de11-b875d182b542"
      },
      "execution_count": null,
      "outputs": [
        {
          "output_type": "execute_result",
          "data": {
            "text/plain": [
              "array([[80, 56, 27, 57, 52],\n",
              "       [43, 12,  9, 65, 47],\n",
              "       [91, 82, 67, 36, 89],\n",
              "       [23,  0, 65, 45, 52],\n",
              "       [14, 23, 66, 56, 92]])"
            ]
          },
          "metadata": {},
          "execution_count": 45
        }
      ]
    },
    {
      "cell_type": "code",
      "source": [
        "np.random.rand(4,5)"
      ],
      "metadata": {
        "colab": {
          "base_uri": "https://localhost:8080/"
        },
        "id": "ucoK7DDrkgHM",
        "outputId": "be8eb94d-d059-4900-8c6c-75ec73d933f0"
      },
      "execution_count": null,
      "outputs": [
        {
          "output_type": "execute_result",
          "data": {
            "text/plain": [
              "array([[0.3576984 , 0.82590179, 0.63893517, 0.04057985, 0.31379757],\n",
              "       [0.7062431 , 0.63000639, 0.18362643, 0.89569918, 0.20140966],\n",
              "       [0.56575431, 0.6691383 , 0.33017396, 0.24696836, 0.98921492],\n",
              "       [0.8717891 , 0.35515318, 0.40342044, 0.90207036, 0.65277615]])"
            ]
          },
          "metadata": {},
          "execution_count": 46
        }
      ]
    },
    {
      "cell_type": "code",
      "source": [
        "data=np.array([1,2,3,4])\n",
        "(data-data.min())/(data.max()-data.min())"
      ],
      "metadata": {
        "colab": {
          "base_uri": "https://localhost:8080/"
        },
        "id": "X7ze1i9lkgDj",
        "outputId": "fc74e017-dacc-4b15-c53c-afd83c1d2ad4"
      },
      "execution_count": null,
      "outputs": [
        {
          "output_type": "execute_result",
          "data": {
            "text/plain": [
              "array([0.        , 0.33333333, 0.66666667, 1.        ])"
            ]
          },
          "metadata": {},
          "execution_count": 47
        }
      ]
    },
    {
      "cell_type": "code",
      "source": [],
      "metadata": {
        "id": "OuBgfmWnkgAb"
      },
      "execution_count": null,
      "outputs": []
    },
    {
      "cell_type": "code",
      "source": [],
      "metadata": {
        "id": "SDaQAjw3kfjO"
      },
      "execution_count": null,
      "outputs": []
    },
    {
      "cell_type": "code",
      "source": [],
      "metadata": {
        "id": "ZQrWrRn5kffp"
      },
      "execution_count": null,
      "outputs": []
    },
    {
      "cell_type": "code",
      "source": [],
      "metadata": {
        "id": "u_x0KZFTkfNS"
      },
      "execution_count": null,
      "outputs": []
    },
    {
      "cell_type": "code",
      "source": [],
      "metadata": {
        "id": "WDcOJKqckfJ0"
      },
      "execution_count": null,
      "outputs": []
    },
    {
      "cell_type": "code",
      "source": [],
      "metadata": {
        "id": "Lk2eU9NpkfGa"
      },
      "execution_count": null,
      "outputs": []
    },
    {
      "cell_type": "code",
      "source": [],
      "metadata": {
        "id": "9YJDkfaRkfDT"
      },
      "execution_count": null,
      "outputs": []
    }
  ]
}